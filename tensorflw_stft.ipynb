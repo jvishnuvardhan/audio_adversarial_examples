{
  "nbformat": 4,
  "nbformat_minor": 0,
  "metadata": {
    "colab": {
      "name": "tensorflw_stft.ipynb",
      "provenance": [],
      "mount_file_id": "1asGKujRUmkCK3-dW8OdMzVz2Rx9XyF5L",
      "authorship_tag": "ABX9TyMFueLnCVxjTkidDB6nrrMW",
      "include_colab_link": true
    },
    "kernelspec": {
      "name": "python3",
      "display_name": "Python 3"
    }
  },
  "cells": [
    {
      "cell_type": "markdown",
      "metadata": {
        "id": "view-in-github",
        "colab_type": "text"
      },
      "source": [
        "<a href=\"https://colab.research.google.com/github/saumya0303/audio_adversarial_examples/blob/master/tensorflw_stft.ipynb\" target=\"_parent\"><img src=\"https://colab.research.google.com/assets/colab-badge.svg\" alt=\"Open In Colab\"/></a>"
      ]
    },
    {
      "cell_type": "code",
      "metadata": {
        "id": "TY8GcFjXgH-G",
        "colab_type": "code",
        "colab": {}
      },
      "source": [
        "#imports\n",
        "import scipy.io.wavfile as wav\n",
        "import numpy as np\n",
        "from scipy.fftpack import fft\n",
        "from scipy.fftpack import ifft\n",
        "from scipy import signal\n",
        "import scipy\n",
        "import librosa\n",
        "from matplotlib import pyplot as plt\n",
        "import tensorflow as tf"
      ],
      "execution_count": 0,
      "outputs": []
    },
    {
      "cell_type": "code",
      "metadata": {
        "id": "NCGBQSJ6gdl0",
        "colab_type": "code",
        "colab": {}
      },
      "source": [
        "def compute_PSD_matrix(audio, window_size):\n",
        "    \"\"\"\n",
        "\tFirst, perform STFT.\n",
        "\tThen, compute the PSD.\n",
        "\tLast, normalize PSD.\n",
        "    \"\"\"\n",
        "\n",
        "    win = np.sqrt(8.0 / 3.) * librosa.core.stft(audio, center=False)\n",
        "    print(np.shape(librosa.core.stft(audio, center=False)))\n",
        "    # print(\"librosa\")\n",
        "    # print(len(librosa.core.stft(audio, center=False)))\n",
        "    z = abs(win / window_size)\n",
        "    psd_max = np.max(z * z)\n",
        "    psd = 10 * np.log10(z * z + 0.0000000000000000001)\n",
        "    PSD = 96 - np.max(psd) + psd\n",
        "    z=z.flatten()\n",
        "    psd_flattened = PSD.flatten()\n",
        "    return PSD, psd_max"
      ],
      "execution_count": 0,
      "outputs": []
    },
    {
      "cell_type": "code",
      "metadata": {
        "id": "sBaIehkNOPRy",
        "colab_type": "code",
        "colab": {}
      },
      "source": [
        ""
      ],
      "execution_count": 0,
      "outputs": []
    },
    {
      "cell_type": "code",
      "metadata": {
        "id": "KekZ2Djrgw-Y",
        "colab_type": "code",
        "colab": {}
      },
      "source": [
        "def Bark(f):\n",
        "    \"\"\"returns the bark-scale value for input frequency f (in Hz)\"\"\"\n",
        "    return 13 * np.arctan(0.00076 * f) + 3.5 * np.arctan(pow(f / 7500.0, 2))"
      ],
      "execution_count": 0,
      "outputs": []
    },
    {
      "cell_type": "code",
      "metadata": {
        "id": "TV6LDZC-g1uY",
        "colab_type": "code",
        "colab": {}
      },
      "source": [
        "def quiet(f):\n",
        "    \"\"\"returns threshold in quiet measured in SPL at frequency f with an offset 12(in Hz)\"\"\"\n",
        "    thresh = 3.64 * pow(f * 0.001, -0.8) - 6.5 * np.exp(-0.6 * pow(0.001 * f - 3.3, 2)) + 0.001 * pow(0.001 * f, 4) - 12\n",
        "    return thresh"
      ],
      "execution_count": 0,
      "outputs": []
    },
    {
      "cell_type": "code",
      "metadata": {
        "id": "fuu8HQD8g5uu",
        "colab_type": "code",
        "colab": {}
      },
      "source": [
        "def two_slops(bark_psd, delta_TM, bark_maskee):\n",
        "    \"\"\"\n",
        "\treturns the masking threshold for each masker using two slopes as the spread function\n",
        "    \"\"\"\n",
        "    Ts = []\n",
        "    for tone_mask in range(bark_psd.shape[0]):\n",
        "        bark_masker = bark_psd[tone_mask, 0]\n",
        "        dz = bark_maskee - bark_masker\n",
        "        zero_index = np.argmax(dz > 0)\n",
        "        sf = np.zeros(len(dz))\n",
        "        sf[:zero_index] = 27 * dz[:zero_index]\n",
        "        sf[zero_index:] = (-27 + 0.37 * max(bark_psd[tone_mask, 1] - 40, 0)) * dz[zero_index:]\n",
        "        T = bark_psd[tone_mask, 1] + delta_TM[tone_mask] + sf\n",
        "        Ts.append(T)\n",
        "    return Ts"
      ],
      "execution_count": 0,
      "outputs": []
    },
    {
      "cell_type": "code",
      "metadata": {
        "id": "pL2NUBlTg-0_",
        "colab_type": "code",
        "colab": {}
      },
      "source": [
        "def compute_th(PSD, barks, ATH, freqs,freq_stft):\n",
        "    \"\"\"\n",
        "    returns the global masking threshold\n",
        "    \"\"\"\n",
        "    # Identification of tonal maskers\n",
        "    # find the index of maskers that are the local maxima\n",
        "    length = len(PSD)\n",
        "    masker_index = signal.argrelextrema(PSD, np.greater)[0]\n",
        "\n",
        "\n",
        "\n",
        "\n",
        "    # delete the boundary of maskers for smoothing\n",
        "    if 0 in masker_index:\n",
        "        masker_index = np.delete(0)\n",
        "    if length - 1 in masker_index:\n",
        "        masker_index = np.delete(length - 1)\n",
        "    num_local_max = len(masker_index)\n",
        "\n",
        "    #compute a matrix which contains value 0 for non tonal frequencies\n",
        "    for i in range(1025):\n",
        "        if i not in masker_index:\n",
        "            freq_stft[i]=0\n",
        "        else:\n",
        "          freq_stft[i]=1\n",
        "\n",
        "\n",
        "    # treat all the maskers as tonal (conservative way)\n",
        "    # smooth the PSD\n",
        "    p_k = pow(10, PSD[masker_index] / 10.)\n",
        "    p_k_prev = pow(10, PSD[masker_index - 1] / 10.)\n",
        "    p_k_post = pow(10, PSD[masker_index + 1] / 10.)\n",
        "    P_TM = 10 * np.log10(p_k_prev + p_k + p_k_post)\n",
        "\n",
        "    # bark_psd: the first column bark, the second column: P_TM, the third column: the index of points\n",
        "    _BARK = 0\n",
        "    _PSD = 1\n",
        "    _INDEX = 2\n",
        "    #num_local maxima is number of maskers we get\n",
        "    bark_psd = np.zeros([num_local_max, 3])\n",
        "    #barks is an array containing frequwncies in bark\n",
        "    bark_psd[:, _BARK] = barks[masker_index]\n",
        "    bark_psd[:, _PSD] = P_TM\n",
        "    bark_psd[:, _INDEX] = masker_index\n",
        "\n",
        "    # delete the masker that doesn't have the highest PSD within 0.5 Bark around its frequency\n",
        "    for i in range(num_local_max):\n",
        "        next = i + 1\n",
        "        if next >= bark_psd.shape[0]:\n",
        "            break\n",
        "\n",
        "        while bark_psd[next, _BARK] - bark_psd[i, _BARK] < 0.5:\n",
        "            # masker must be higher than quiet threshold\n",
        "            if quiet(freqs[int(bark_psd[i, _INDEX])]) > bark_psd[i, _PSD]:\n",
        "                bark_psd = np.delete(bark_psd, (i), axis=0)\n",
        "            if next == bark_psd.shape[0]:\n",
        "                break\n",
        "            #axis=0 is the direction along the rows\n",
        "            if bark_psd[i, _PSD] < bark_psd[next, _PSD]:\n",
        "                bark_psd = np.delete(bark_psd, (i), axis=0)\n",
        "            else:\n",
        "                bark_psd = np.delete(bark_psd, (next), axis=0)\n",
        "            if next == bark_psd.shape[0]:\n",
        "                break\n",
        "\n",
        "                # compute the individual masking threshold\n",
        "    delta_TM = 1 * (-6.025 - 0.275 * bark_psd[:, 0])#delta_tm is the masking frequency in barc scale\n",
        "    Ts = two_slops(bark_psd, delta_TM, barks)\n",
        "    # print(\"individual masking threshold\").\n",
        "   \n",
        "    Ts = np.array(Ts)\n",
        "\n",
        "    #ax.plot(masker_index,P_TM.flatten()[0:num_local_max],'y--')\n",
        "    # print(\"Ts\")\n",
        "    # print(len(Ts))\n",
        "\n",
        "    # compute the global masking threshold\n",
        "    theta_x = 10 * np.log10(np.sum(pow(10, Ts / 10.), axis=0) + pow(10, ATH / 10.))\n",
        "   \n",
        "    return theta_x\n"
      ],
      "execution_count": 0,
      "outputs": []
    },
    {
      "cell_type": "code",
      "metadata": {
        "id": "DHrDqCyeqKpn",
        "colab_type": "code",
        "colab": {
          "base_uri": "https://localhost:8080/",
          "height": 682
        },
        "outputId": "c9f9e95c-ea5e-418a-950f-e5e25fde8224"
      },
      "source": [
        "#generate threshold\n",
        "def generate_th(audio, fs, window_size=2048):\n",
        "    \"\"\"\n",
        "\treturns the masking threshold theta_xs and the max psd of the audio\n",
        "    \"\"\"\n",
        "    PSD, psd_max = compute_PSD_matrix(audio, window_size)\n",
        "    freqs = librosa.core.fft_frequencies(fs, window_size)\n",
        "    freq_stft=librosa.core.stft(audio, center=False, hop_length=512, win_length=2048, window='hann')\n",
        "    print(np.shape(freq_stft))\n",
        "    psd_flattened = PSD.flatten()\n",
        "    barks = Bark(freqs)\n",
        "\n",
        "    # compute the quiet threshold\n",
        "    ATH = np.zeros(len(barks)) - np.inf\n",
        "    bark_ind = np.argmax(barks > 1)\n",
        "    ATH[bark_ind:] = quiet(freqs[bark_ind:])\n",
        "\n",
        "    # compute the global masking threshold theta_xs\n",
        "    theta_xs = []\n",
        "    # print(\"psdfunction\")\n",
        "    # print(PSD.shape[1])\n",
        "    # compute the global masking threshold in each window\n",
        "    for i in range(PSD.shape[1]):\n",
        "        # print(\"psd ata a step\")\n",
        "        # print(PSD[:, i])\n",
        "        # print(len(PSD[:, i]))\n",
        "        theta_xs.append(compute_th(PSD[:, i], barks, ATH, freqs,freq_stft[:,i]))\n",
        "        # print(\"compute_th\")\n",
        "        # print(PSD[:, i], barks, ATH, freqs)\n",
        "        # print(len(compute_th(PSD[:, i], barks, ATH, freqs)))\n",
        "    theta_xs = np.array(theta_xs)\n",
        "\n",
        "    data , sampling_rate = librosa.load('/content/drive/My Drive/sample-000000.wav')\n",
        "# for use in tensorflow\n",
        "    data_tensor = tf.convert_to_tensor( data )\n",
        "    a=tf.signal.stft(\n",
        "    data_tensor, 2048, 512, fft_length=None,\n",
        "    window_fn=tf.signal.hann_window, pad_end=False, name=None\n",
        ")\n",
        "    print(freq_stft.real)\n",
        "    x=tf.math.multiply(a,tf.transpose(freq_stft))\n",
        "    print(freq_stft)\n",
        "    print(x)\n",
        "    p=tf.signal.inverse_stft(\n",
        "    x, 2048, 512, fft_length=None,\n",
        "    window_fn=tf.signal.hann_window, name=None\n",
        ")\n",
        "    signal_n = p.eval(session=tf.compat.v1.Session())\n",
        "    \n",
        "    res = x.eval(session=tf.compat.v1.Session())\n",
        "    print(res)\n",
        "\n",
        "    librosa.output.write_wav('/content/sample_data/sample_data3.wav', signal_n, sampling_rate)\n",
        "    return theta_xs, psd_max\n",
        "\n",
        "\n",
        "\n",
        "audios = []\n",
        "lengths = []\n",
        "th_batch = []\n",
        "psd_max_batch = []\n",
        "for i in range(1):\n",
        "    sample_rate_np, audio_temp = wav.read('/content/drive/My Drive/sample-000000.wav')\n",
        "    if max(audio_temp) < 1:\n",
        "        audio_np = audio_temp * 32768\n",
        "    else:\n",
        "        audio_np = audio_temp\n",
        "\n",
        "    length = len(audio_np)\n",
        "\n",
        "    audios.append(audio_np)\n",
        "    lengths.append(length)\n",
        "max_length = max(lengths)\n",
        "\n",
        "# pad the input audio\n",
        "audios_np = np.zeros([1, max_length])\n",
        "\n",
        "for i in range(1):\n",
        "    audio_float = audios[i].astype(float)\n",
        "    data2 , sampling_rate2 = librosa.load('/content/drive/My Drive/sample-000000.wav')\n",
        "    th, psd_max = generate_th(data2, sampling_rate2, 2048)\n",
        " "
      ],
      "execution_count": 139,
      "outputs": [
        {
          "output_type": "stream",
          "text": [
            "(1025, 134)\n",
            "(1025, 134)\n",
            "[[0. 0. 0. ... 0. 0. 0.]\n",
            " [0. 0. 0. ... 0. 0. 0.]\n",
            " [0. 0. 0. ... 0. 0. 0.]\n",
            " ...\n",
            " [0. 0. 0. ... 0. 0. 0.]\n",
            " [0. 0. 1. ... 1. 1. 1.]\n",
            " [0. 0. 0. ... 0. 0. 0.]]\n",
            "[[0.+0.j 0.+0.j 0.+0.j ... 0.+0.j 0.+0.j 0.+0.j]\n",
            " [0.+0.j 0.+0.j 0.+0.j ... 0.+0.j 0.+0.j 0.+0.j]\n",
            " [0.+0.j 0.+0.j 0.+0.j ... 0.+0.j 0.+0.j 0.+0.j]\n",
            " ...\n",
            " [0.+0.j 0.+0.j 0.+0.j ... 0.+0.j 0.+0.j 0.+0.j]\n",
            " [0.+0.j 0.+0.j 1.+0.j ... 1.+0.j 1.+0.j 1.+0.j]\n",
            " [0.+0.j 0.+0.j 0.+0.j ... 0.+0.j 0.+0.j 0.+0.j]]\n",
            "Tensor(\"Mul_9:0\", shape=(134, 1025), dtype=complex64)\n",
            "[[-0.0000000e+00+0.0000000e+00j  0.0000000e+00+0.0000000e+00j\n",
            "   0.0000000e+00+0.0000000e+00j ...  0.0000000e+00+0.0000000e+00j\n",
            "   0.0000000e+00+0.0000000e+00j -0.0000000e+00+0.0000000e+00j]\n",
            " [-0.0000000e+00+0.0000000e+00j  0.0000000e+00+0.0000000e+00j\n",
            "   0.0000000e+00-0.0000000e+00j ... -0.0000000e+00+0.0000000e+00j\n",
            "   0.0000000e+00+0.0000000e+00j -0.0000000e+00+0.0000000e+00j]\n",
            " [-0.0000000e+00+0.0000000e+00j -0.0000000e+00+0.0000000e+00j\n",
            "   0.0000000e+00+0.0000000e+00j ...  0.0000000e+00+0.0000000e+00j\n",
            "  -4.7683716e-06-9.4175339e-06j -0.0000000e+00+0.0000000e+00j]\n",
            " ...\n",
            " [ 0.0000000e+00+0.0000000e+00j -0.0000000e+00+0.0000000e+00j\n",
            "   0.0000000e+00+0.0000000e+00j ...  0.0000000e+00+0.0000000e+00j\n",
            "  -2.9988587e-07-2.2351742e-06j  0.0000000e+00+0.0000000e+00j]\n",
            " [ 0.0000000e+00+0.0000000e+00j  0.0000000e+00+0.0000000e+00j\n",
            "   0.0000000e+00+0.0000000e+00j ...  0.0000000e+00+0.0000000e+00j\n",
            "   1.0132790e-06+1.5944242e-06j -0.0000000e+00+0.0000000e+00j]\n",
            " [-0.0000000e+00+0.0000000e+00j  0.0000000e+00+0.0000000e+00j\n",
            "   0.0000000e+00-0.0000000e+00j ... -0.0000000e+00+0.0000000e+00j\n",
            "   8.6426735e-07+9.7602606e-07j  0.0000000e+00+0.0000000e+00j]]\n"
          ],
          "name": "stdout"
        }
      ]
    },
    {
      "cell_type": "code",
      "metadata": {
        "id": "aS6ldSqpOqGx",
        "colab_type": "code",
        "colab": {
          "base_uri": "https://localhost:8080/",
          "height": 35
        },
        "outputId": "9e96de9a-97b1-4d90-c6cf-9ca54b0bc07b"
      },
      "source": [
        "\n",
        "print(a)"
      ],
      "execution_count": 140,
      "outputs": [
        {
          "output_type": "stream",
          "text": [
            "Tensor(\"stft_3/rfft:0\", shape=(134, 1025), dtype=complex64)\n"
          ],
          "name": "stdout"
        }
      ]
    },
    {
      "cell_type": "code",
      "metadata": {
        "id": "x_TBnXi0OQqL",
        "colab_type": "code",
        "colab": {}
      },
      "source": [
        ""
      ],
      "execution_count": 0,
      "outputs": []
    }
  ]
}