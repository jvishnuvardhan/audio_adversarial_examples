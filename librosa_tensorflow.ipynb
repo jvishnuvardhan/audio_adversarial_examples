{
  "nbformat": 4,
  "nbformat_minor": 0,
  "metadata": {
    "colab": {
      "name": "librosa_tensorflow.ipynb",
      "provenance": [],
      "collapsed_sections": [],
      "mount_file_id": "1Kzl-_b_qra-zsgpRHfT92pVj7V9h5Krv",
      "authorship_tag": "ABX9TyPU3CpjT/JY/qb0zh6MPsuB",
      "include_colab_link": true
    },
    "kernelspec": {
      "name": "python3",
      "display_name": "Python 3"
    }
  },
  "cells": [
    {
      "cell_type": "markdown",
      "metadata": {
        "id": "view-in-github",
        "colab_type": "text"
      },
      "source": [
        "<a href=\"https://colab.research.google.com/github/saumya0303/audio_adversarial_examples/blob/master/librosa_tensorflow.ipynb\" target=\"_parent\"><img src=\"https://colab.research.google.com/assets/colab-badge.svg\" alt=\"Open In Colab\"/></a>"
      ]
    },
    {
      "cell_type": "code",
      "metadata": {
        "id": "ATd77X7X-WTJ",
        "colab_type": "code",
        "colab": {
          "base_uri": "https://localhost:8080/",
          "height": 63
        },
        "outputId": "14dab713-caa4-46a3-ddde-c5d5175f8f3d"
      },
      "source": [
        "import librosa\n",
        "import tensorflow as tf\n",
        "\n",
        "data , sampling_rate = librosa.load('/content/drive/My Drive/sample-000000.wav')\n",
        "# for use in tensorflow\n",
        "data_tensor = tf.convert_to_tensor( data )"
      ],
      "execution_count": 1,
      "outputs": [
        {
          "output_type": "display_data",
          "data": {
            "text/html": [
              "<p style=\"color: red;\">\n",
              "The default version of TensorFlow in Colab will soon switch to TensorFlow 2.x.<br>\n",
              "We recommend you <a href=\"https://www.tensorflow.org/guide/migrate\" target=\"_blank\">upgrade</a> now \n",
              "or ensure your notebook will continue to use TensorFlow 1.x via the <code>%tensorflow_version 1.x</code> magic:\n",
              "<a href=\"https://colab.research.google.com/notebooks/tensorflow_version.ipynb\" target=\"_blank\">more info</a>.</p>\n"
            ],
            "text/plain": [
              "<IPython.core.display.HTML object>"
            ]
          },
          "metadata": {
            "tags": []
          }
        }
      ]
    },
    {
      "cell_type": "code",
      "metadata": {
        "id": "SAPmsZ9a-td5",
        "colab_type": "code",
        "outputId": "f93a87a7-7285-4d20-d6ee-32323e6ea0c9",
        "colab": {
          "base_uri": "https://localhost:8080/",
          "height": 34
        }
      },
      "source": [
        "a=tf.signal.stft(\n",
        "    data_tensor, 2048, 512, fft_length=None,\n",
        "    window_fn=tf.signal.hann_window, pad_end=False, name=None\n",
        ")\n",
        "print(a)\n"
      ],
      "execution_count": 2,
      "outputs": [
        {
          "output_type": "stream",
          "text": [
            "Tensor(\"stft/rfft:0\", shape=(134, 1025), dtype=complex64)\n"
          ],
          "name": "stdout"
        }
      ]
    },
    {
      "cell_type": "code",
      "metadata": {
        "id": "WdA0rsoj_LtA",
        "colab_type": "code",
        "colab": {}
      },
      "source": [
        "import numpy as np\n",
        "p=tf.signal.inverse_stft(\n",
        "    a, 2048, 512, fft_length=None,\n",
        "    window_fn=tf.signal.hann_window, name=None\n",
        ")\n",
        "signal_n = p.eval(session=tf.compat.v1.Session())\n"
      ],
      "execution_count": 0,
      "outputs": []
    },
    {
      "cell_type": "code",
      "metadata": {
        "id": "h4qZhsGxAgfU",
        "colab_type": "code",
        "colab": {}
      },
      "source": [
        "\n",
        "librosa.output.write_wav('/content/sample_data/sample_data1.wav', signal_n, sampling_rate)"
      ],
      "execution_count": 0,
      "outputs": []
    },
    {
      "cell_type": "code",
      "metadata": {
        "id": "jMcCl3R-Fbnw",
        "colab_type": "code",
        "outputId": "cae9d2be-4d9d-4316-e405-eea7284babdd",
        "colab": {
          "base_uri": "https://localhost:8080/",
          "height": 34
        }
      },
      "source": [
        "############################################################\n",
        "#again stft\n",
        "data1 , sampling_rate1 = librosa.load('/content/sample_data/sample_data1.wav')\n",
        "# for use in tensorflow\n",
        "data_tensor1 = tf.convert_to_tensor( data1 )\n",
        "a1=tf.signal.stft(\n",
        "    data_tensor1, 2048, 512, fft_length=None,\n",
        "    window_fn=tf.signal.hann_window, pad_end=False, name=None\n",
        ")\n",
        "print(a1)\n",
        "\n"
      ],
      "execution_count": 5,
      "outputs": [
        {
          "output_type": "stream",
          "text": [
            "Tensor(\"stft_1/rfft:0\", shape=(134, 1025), dtype=complex64)\n"
          ],
          "name": "stdout"
        }
      ]
    },
    {
      "cell_type": "code",
      "metadata": {
        "id": "Lw1CqIg-GdmD",
        "colab_type": "code",
        "outputId": "dd367ff5-2937-4d22-b18c-2570aa7017c9",
        "colab": {
          "base_uri": "https://localhost:8080/",
          "height": 340
        }
      },
      "source": [
        "c=(a-a1)\n",
        "signal_n = c.eval(session=tf.compat.v1.Session())\n",
        "print(signal_n)"
      ],
      "execution_count": 6,
      "outputs": [
        {
          "output_type": "stream",
          "text": [
            "[[ 1.2989101e+00+0.0000000e+00j -5.6930460e-02+1.3598461e+00j\n",
            "  -1.4648380e+00+1.8868178e-02j ...  3.3378601e-05-9.7282231e-05j\n",
            "   5.5611134e-05+9.6797943e-05j -1.2981892e-04+0.0000000e+00j]\n",
            " [ 2.0988026e+00+0.0000000e+00j -2.1327219e+00-5.2169502e-01j\n",
            "   3.0303321e+00+1.3102756e+00j ...  1.1277199e-04+4.1723251e-05j\n",
            "   1.4996529e-04+1.3816357e-04j -3.7550926e-04+0.0000000e+00j]\n",
            " [ 6.9327641e-01+0.0000000e+00j  4.6522737e-01-8.9231908e-01j\n",
            "  -4.4733131e-01-1.0350161e+00j ... -2.1111965e-04-1.3947487e-05j\n",
            "   3.7872791e-04+4.5537949e-05j -5.5772066e-04+0.0000000e+00j]\n",
            " ...\n",
            " [-1.0701808e-01+0.0000000e+00j  8.8183209e-03-2.2422159e-01j\n",
            "  -1.6990876e+00-3.5589254e-01j ...  1.9896030e-04-3.9693713e-04j\n",
            "  -2.2454187e-05+1.7872453e-04j -1.7923117e-04+0.0000000e+00j]\n",
            " [ 2.1183059e-02+0.0000000e+00j  1.0212039e-01+3.0001104e-01j\n",
            "  -8.4907007e-01+1.2641408e+00j ... -1.8841028e-04+2.7263165e-04j\n",
            "   2.4133176e-04-2.1342933e-04j -1.3183802e-04+0.0000000e+00j]\n",
            " [ 3.4456462e-02+0.0000000e+00j -3.9040917e-01-3.1411728e-01j\n",
            "   2.1948054e+00+6.6438544e-01j ...  2.6941299e-04+1.7106533e-05j\n",
            "  -2.5153160e-04-1.5277416e-05j  9.3907118e-05+0.0000000e+00j]]\n"
          ],
          "name": "stdout"
        }
      ]
    },
    {
      "cell_type": "code",
      "metadata": {
        "id": "LK-lQEefJ-nI",
        "colab_type": "code",
        "colab": {}
      },
      "source": [
        ""
      ],
      "execution_count": 0,
      "outputs": []
    }
  ]
}